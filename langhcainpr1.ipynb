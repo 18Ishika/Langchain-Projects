{
 "cells": [
  {
   "cell_type": "code",
   "execution_count": 3,
   "id": "8e09bdb5",
   "metadata": {},
   "outputs": [],
   "source": [
    "from langchain_google_genai import ChatGoogleGenerativeAI"
   ]
  },
  {
   "cell_type": "code",
   "execution_count": 4,
   "id": "3edc923e",
   "metadata": {},
   "outputs": [
    {
     "data": {
      "text/plain": [
       "True"
      ]
     },
     "execution_count": 4,
     "metadata": {},
     "output_type": "execute_result"
    }
   ],
   "source": [
    "from dotenv import load_dotenv\n",
    "import os\n",
    "load_dotenv()"
   ]
  },
  {
   "cell_type": "code",
   "execution_count": 5,
   "id": "9ac077ee",
   "metadata": {},
   "outputs": [],
   "source": [
    "GOOGLE_API_KEY=os.getenv(\"GOOGLE_API_KEY\",\"Not found\")\n",
    "llm=ChatGoogleGenerativeAI(\n",
    "    model=\"models/gemini-1.5-flash\",\n",
    "    temperature=0.4,\n",
    "    google_api_key=GOOGLE_API_KEY\n",
    ")"
   ]
  },
  {
   "cell_type": "code",
   "execution_count": 6,
   "id": "ab0d95cc",
   "metadata": {},
   "outputs": [
    {
     "name": "stdout",
     "output_type": "stream",
     "text": [
      "content='The capital of India is **New Delhi**.' additional_kwargs={} response_metadata={'prompt_feedback': {'block_reason': 0, 'safety_ratings': []}, 'finish_reason': 'STOP', 'model_name': 'gemini-1.5-flash', 'safety_ratings': []} id='run--899c11e7-182e-4af9-9ad2-7495f4de191c-0' usage_metadata={'input_tokens': 6, 'output_tokens': 10, 'total_tokens': 16, 'input_token_details': {'cache_read': 0}}\n"
     ]
    }
   ],
   "source": [
    "text=\"What is the capital of India\"\n",
    "print(llm.invoke(text))"
   ]
  },
  {
   "cell_type": "code",
   "execution_count": 7,
   "id": "c0298192",
   "metadata": {},
   "outputs": [
    {
     "data": {
      "text/plain": [
       "'Tell me the capital of this Australia'"
      ]
     },
     "execution_count": 7,
     "metadata": {},
     "output_type": "execute_result"
    }
   ],
   "source": [
    "from langchain.prompts import PromptTemplate\n",
    "prompt_template=PromptTemplate(input_variables=['country'],template=\"Tell me the capital of this {country}\")\n",
    "prompt_template.format(country=\"Australia\")"
   ]
  },
  {
   "cell_type": "code",
   "execution_count": 8,
   "id": "2620923a",
   "metadata": {},
   "outputs": [
    {
     "name": "stderr",
     "output_type": "stream",
     "text": [
      "C:\\Users\\deend\\AppData\\Local\\Temp\\ipykernel_18116\\1138367848.py:2: LangChainDeprecationWarning: The class `LLMChain` was deprecated in LangChain 0.1.17 and will be removed in 1.0. Use :meth:`~RunnableSequence, e.g., `prompt | llm`` instead.\n",
      "  chain=LLMChain(llm=llm,prompt=prompt_template)\n"
     ]
    },
    {
     "name": "stdout",
     "output_type": "stream",
     "text": [
      "The capital of China is **Beijing**.\n"
     ]
    }
   ],
   "source": [
    "from langchain.chains import LLMChain\n",
    "chain=LLMChain(llm=llm,prompt=prompt_template)\n",
    "print(chain.invoke(\"China\")['text'])"
   ]
  },
  {
   "cell_type": "code",
   "execution_count": 9,
   "id": "dcbfaa47",
   "metadata": {},
   "outputs": [
    {
     "name": "stderr",
     "output_type": "stream",
     "text": [
      "C:\\Users\\deend\\AppData\\Local\\Temp\\ipykernel_18116\\2428543993.py:9: LangChainDeprecationWarning: The method `Chain.run` was deprecated in langchain 0.1.0 and will be removed in 1.0. Use :meth:`~invoke` instead.\n",
      "  print(Chain.run(\"India\"))\n"
     ]
    },
    {
     "name": "stdout",
     "output_type": "stream",
     "text": [
      "\n",
      "\n",
      "\u001b[1m> Entering new SimpleSequentialChain chain...\u001b[0m\n",
      "\u001b[36;1m\u001b[1;3mThe capital of India is **New Delhi**.\u001b[0m\n",
      "\u001b[33;1m\u001b[1;3mNew Delhi offers a diverse range of attractions. Here are some places to visit, categorized for easier planning:\n",
      "\n",
      "**Historical & Architectural Sites:**\n",
      "\n",
      "* **Red Fort (Lal Qila):** A magnificent Mughal-era fort, a UNESCO World Heritage site.\n",
      "* **Humayun's Tomb:**  A precursor to the Taj Mahal, showcasing stunning Mughal architecture.\n",
      "* **Qutub Minar:** A towering minaret, also a UNESCO World Heritage site, showcasing Indo-Islamic architecture.\n",
      "* **Jama Masjid:** One of India's largest mosques, known for its impressive size and architecture.\n",
      "* **India Gate:** A war memorial dedicated to Indian soldiers who died in World War I.\n",
      "* **President's House (Rashtrapati Bhavan):** The official residence of the President of India (exterior viewing only, unless you have a special tour).\n",
      "* **Parliament House:** The seat of the Indian Parliament (exterior viewing only).\n",
      "* **Akshardham Temple:** A sprawling modern temple complex with intricate carvings and a stunning water show (check timings).\n",
      "\n",
      "\n",
      "**Museums & Gardens:**\n",
      "\n",
      "* **National Museum:** Houses a vast collection of Indian art and artifacts.\n",
      "* **National Gallery of Modern Art (NGMA):** Showcases modern and contemporary Indian art.\n",
      "* **Lodhi Garden:** A beautiful garden with historical tombs.\n",
      "* **Nehru Memorial Museum & Library:**  Dedicated to Jawaharlal Nehru, India's first Prime Minister.\n",
      "\n",
      "\n",
      "**Religious Sites (Beyond those listed above):**\n",
      "\n",
      "* **Gurudwara Bangla Sahib:** A prominent Sikh temple.\n",
      "* **ISKCON Temple:** A beautiful temple dedicated to Lord Krishna.\n",
      "\n",
      "\n",
      "**Shopping & Markets:**\n",
      "\n",
      "* **Connaught Place:** A bustling commercial area with shops, restaurants, and cafes.\n",
      "* **Dilli Haat:** A craft bazaar showcasing handicrafts from across India.\n",
      "* **Chandni Chowk:** A vibrant and historic market known for its spices, fabrics, and street food.\n",
      "\n",
      "\n",
      "**Other Experiences:**\n",
      "\n",
      "* **A rickshaw ride through Old Delhi:** A unique way to experience the city's bustling streets.\n",
      "* **Attend a cultural performance:** Check local listings for dance, music, and theatre events.\n",
      "* **Enjoy street food:** Delhi is a foodie paradise, with a wide variety of delicious street food options.\n",
      "\n",
      "\n",
      "This is just a starting point.  The best places to visit will depend on your interests and the amount of time you have available.  I recommend researching specific sites further to check opening times, entry fees, and accessibility.\u001b[0m\n",
      "\n",
      "\u001b[1m> Finished chain.\u001b[0m\n",
      "New Delhi offers a diverse range of attractions. Here are some places to visit, categorized for easier planning:\n",
      "\n",
      "**Historical & Architectural Sites:**\n",
      "\n",
      "* **Red Fort (Lal Qila):** A magnificent Mughal-era fort, a UNESCO World Heritage site.\n",
      "* **Humayun's Tomb:**  A precursor to the Taj Mahal, showcasing stunning Mughal architecture.\n",
      "* **Qutub Minar:** A towering minaret, also a UNESCO World Heritage site, showcasing Indo-Islamic architecture.\n",
      "* **Jama Masjid:** One of India's largest mosques, known for its impressive size and architecture.\n",
      "* **India Gate:** A war memorial dedicated to Indian soldiers who died in World War I.\n",
      "* **President's House (Rashtrapati Bhavan):** The official residence of the President of India (exterior viewing only, unless you have a special tour).\n",
      "* **Parliament House:** The seat of the Indian Parliament (exterior viewing only).\n",
      "* **Akshardham Temple:** A sprawling modern temple complex with intricate carvings and a stunning water show (check timings).\n",
      "\n",
      "\n",
      "**Museums & Gardens:**\n",
      "\n",
      "* **National Museum:** Houses a vast collection of Indian art and artifacts.\n",
      "* **National Gallery of Modern Art (NGMA):** Showcases modern and contemporary Indian art.\n",
      "* **Lodhi Garden:** A beautiful garden with historical tombs.\n",
      "* **Nehru Memorial Museum & Library:**  Dedicated to Jawaharlal Nehru, India's first Prime Minister.\n",
      "\n",
      "\n",
      "**Religious Sites (Beyond those listed above):**\n",
      "\n",
      "* **Gurudwara Bangla Sahib:** A prominent Sikh temple.\n",
      "* **ISKCON Temple:** A beautiful temple dedicated to Lord Krishna.\n",
      "\n",
      "\n",
      "**Shopping & Markets:**\n",
      "\n",
      "* **Connaught Place:** A bustling commercial area with shops, restaurants, and cafes.\n",
      "* **Dilli Haat:** A craft bazaar showcasing handicrafts from across India.\n",
      "* **Chandni Chowk:** A vibrant and historic market known for its spices, fabrics, and street food.\n",
      "\n",
      "\n",
      "**Other Experiences:**\n",
      "\n",
      "* **A rickshaw ride through Old Delhi:** A unique way to experience the city's bustling streets.\n",
      "* **Attend a cultural performance:** Check local listings for dance, music, and theatre events.\n",
      "* **Enjoy street food:** Delhi is a foodie paradise, with a wide variety of delicious street food options.\n",
      "\n",
      "\n",
      "This is just a starting point.  The best places to visit will depend on your interests and the amount of time you have available.  I recommend researching specific sites further to check opening times, entry fees, and accessibility.\n"
     ]
    }
   ],
   "source": [
    "#SIMPLE SEQUENTIAL CHAIN\n",
    "from langchain.chains import SimpleSequentialChain\n",
    "prompt2=PromptTemplate(input_variables=['capital'],template=\"Tell me some places to visit in {capital}\")\n",
    "chain2=LLMChain(llm=llm,prompt=prompt2)\n",
    "Chain=SimpleSequentialChain(\n",
    "    chains=[chain,chain2],\n",
    "    verbose=True #logs behind it\n",
    ")\n",
    "print(Chain.run(\"India\"))\n"
   ]
  },
  {
   "cell_type": "code",
   "execution_count": 10,
   "id": "8c06b4ed",
   "metadata": {},
   "outputs": [],
   "source": [
    "#chat models --> System ,Human ,AI message\n",
    "from langchain.schema import SystemMessage,HumanMessage,AIMessage\n"
   ]
  },
  {
   "cell_type": "code",
   "execution_count": 11,
   "id": "604a4ed9",
   "metadata": {},
   "outputs": [
    {
     "name": "stderr",
     "output_type": "stream",
     "text": [
      "C:\\Users\\deend\\AppData\\Local\\Temp\\ipykernel_18116\\2265724134.py:6: LangChainDeprecationWarning: The method `BaseChatModel.__call__` was deprecated in langchain-core 0.1.7 and will be removed in 1.0. Use :meth:`~invoke` instead.\n",
      "  response=llm(messages)\n"
     ]
    },
    {
     "name": "stdout",
     "output_type": "stream",
     "text": [
      "Varanasi offers a rich tapestry of experiences.  To recommend the best places for *you*, I need a little more information about your interests.  However, here's a breakdown of popular Varanasi attractions categorized by interest, to help you choose:\n",
      "\n",
      "**For the Spiritually Inclined:**\n",
      "\n",
      "* **Ghats:**  This is the heart of Varanasi. Witnessing the Ganga Aarti ceremony at sunset from a ghat (riverbank) like Dashashwamedh Ghat or Manikarnika Ghat is a must-do.  Explore the various ghats – each has its own unique character and atmosphere.  Consider a sunrise boat ride on the Ganges for a truly unforgettable experience.\n",
      "* **Kashi Vishwanath Temple:** One of the twelve Jyotirlingas, this is a significant Hindu temple dedicated to Lord Shiva.  Be prepared for crowds.\n",
      "* **Sarnath:** Located a short distance from Varanasi, Sarnath is where Buddha delivered his first sermon.  It's a significant pilgrimage site with ancient stupas and monasteries.\n",
      "\n",
      "**For the History & Culture Enthusiast:**\n",
      "\n",
      "* **Ramnagar Fort:**  Located across the Ganges, this fort offers stunning views of Varanasi and houses a museum with a collection of royal artifacts.\n",
      "* **Bharat Kala Bhavan:** A museum showcasing a diverse collection of Indian art, including paintings, sculptures, and manuscripts.\n",
      "* **Alamgir Mosque:** A Mughal-era mosque offering a glimpse into Varanasi's diverse history.\n",
      "* **Banaras Hindu University (BHU):**  A sprawling university campus with beautiful architecture and a significant cultural presence.  (Consider visiting only specific areas if you don't have much time.)\n",
      "\n",
      "**For the Shopaholic:**\n",
      "\n",
      "* **Local Markets:** Varanasi's bustling markets offer a wide array of goods, from silk sarees and handicrafts to spices and religious items.  Bargaining is expected!\n",
      "\n",
      "\n",
      "**For a Relaxing Experience:**\n",
      "\n",
      "* **Boat ride on the Ganges:**  A peaceful way to experience the city from a different perspective, especially at sunrise or sunset.\n",
      "* **Yoga and Meditation Classes:**  Several centers offer classes for all levels.\n",
      "\n",
      "\n",
      "**To help me give you a more tailored recommendation, tell me:**\n",
      "\n",
      "* **How much time do you have in Varanasi?** (A day, a weekend, a week?)\n",
      "* **What are your interests?** (History, religion, culture, shopping, relaxation, etc.)\n",
      "* **What's your budget?** (Luxury, mid-range, budget-friendly?)\n",
      "* **What's your travel style?** (Independent exploration, guided tours, etc.)\n",
      "\n",
      "\n",
      "Once I have this information, I can create a more personalized itinerary for your Varanasi trip.\n"
     ]
    }
   ],
   "source": [
    "messages=[\n",
    "    SystemMessage(content=\"You are a travel assistant\"),\n",
    "    HumanMessage(content=\"Tell places to visit in Varanasi\")\n",
    "\n",
    "]\n",
    "response=llm(messages)\n",
    "print(response.content)"
   ]
  },
  {
   "cell_type": "code",
   "execution_count": 1,
   "id": "39767308",
   "metadata": {},
   "outputs": [],
   "source": [
    "#OUTPUT PARSER\n",
    "from langchain.output_parsers import CommaSeparatedListOutputParser"
   ]
  },
  {
   "cell_type": "code",
   "execution_count": 16,
   "id": "6a4d2837",
   "metadata": {},
   "outputs": [
    {
     "name": "stdout",
     "output_type": "stream",
     "text": [
      "['1. Durian', '2. Mangosteen', '3. Rambutan']\n"
     ]
    }
   ],
   "source": [
    "prompt=PromptTemplate(input_variables=[],template=\"Tell me name of three exotic fruits\")\n",
    "parser=CommaSeparatedListOutputParser()\n",
    "chain=prompt|llm| parser\n",
    "print(chain.invoke({}))# empty becoz it expects a input variable"
   ]
  },
  {
   "cell_type": "code",
   "execution_count": null,
   "id": "e1ff51ec",
   "metadata": {},
   "outputs": [],
   "source": [
    "#different parsers- stroutputparser, pydanticoutputparser,StructuredOutputparser"
   ]
  }
 ],
 "metadata": {
  "kernelspec": {
   "display_name": "myenv",
   "language": "python",
   "name": "python3"
  },
  "language_info": {
   "codemirror_mode": {
    "name": "ipython",
    "version": 3
   },
   "file_extension": ".py",
   "mimetype": "text/x-python",
   "name": "python",
   "nbconvert_exporter": "python",
   "pygments_lexer": "ipython3",
   "version": "3.9.13"
  }
 },
 "nbformat": 4,
 "nbformat_minor": 5
}
